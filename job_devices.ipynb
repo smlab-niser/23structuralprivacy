{
 "cells": [
  {
   "cell_type": "code",
   "execution_count": 2,
   "metadata": {},
   "outputs": [],
   "source": [
    "input_file = 'code/jobs/test.jobs'  # Replace with the name of your input file\n",
    "output_files = ['code/jobs/jagannath1.jobs', 'code/jobs/jagannath2.jobs', 'code/jobs/jagannath3.jobs', 'code/jobs/jagannath4.jobs']  # Replace with the name of your output file\n",
    "\n",
    "# Function to change the last character of a string\n",
    "def change_last_character(r, line):\n",
    "    if line:\n",
    "        return line[:-2] + str(r)\n",
    "    else:\n",
    "        return line  # Handle empty lines if needed\n",
    "\n",
    "try:\n",
    "    with open(input_file, 'r') as file_in:\n",
    "        file_handles = [open(file, 'w') for file in output_files]\n",
    "\n",
    "        for n, line in enumerate(file_in):\n",
    "            if n % 4 == 0:\n",
    "                file_handles[0].write(change_last_character(0, line) + '\\n')\n",
    "            elif n % 4 == 1:\n",
    "                file_handles[1].write(change_last_character(1, line) + '\\n')\n",
    "            elif n % 4 == 2:\n",
    "                file_handles[2].write(change_last_character(2, line) + '\\n')\n",
    "            else:\n",
    "                file_handles[3].write(change_last_character(3, line) + '\\n')\n",
    "\n",
    "        for file_handle in file_handles:\n",
    "            file_handle.close()\n",
    "\n",
    "except FileNotFoundError:\n",
    "    print(f\"The file '{input_file}' was not found.\")\n",
    "except Exception as e:\n",
    "    print(f\"An error occurred: {e}\")\n"
   ]
  },
  {
   "cell_type": "code",
   "execution_count": 2,
   "metadata": {},
   "outputs": [
    {
     "name": "stdout",
     "output_type": "stream",
     "text": [
      "File processed successfully!\n"
     ]
    }
   ],
   "source": [
    "input_file = 'code/jobs/jagannath1.jobs'  # Replace with the name of your input file\n",
    "output_file = 'code/jobs/jagannath1_1.jobs'  # Replace with the name of your output file\n",
    "\n",
    "# Function to change the last character of a string\n",
    "def change_last_character(line):\n",
    "    if line:\n",
    "        return line[:-2] + '2'  # Replace 'X' with the character you want to use\n",
    "    else:\n",
    "        return line  # Handle empty lines if needed\n",
    "\n",
    "try:\n",
    "    with open(input_file, 'r') as file_in, open(output_file, 'w') as file_out:\n",
    "        for line in file_in:\n",
    "            modified_line = change_last_character(line)\n",
    "            file_out.write(modified_line + '\\n')\n",
    "    print(\"File processed successfully!\")\n",
    "except FileNotFoundError:\n",
    "    print(f\"The file '{input_file}' was not found.\")\n",
    "except Exception as e:\n",
    "    print(f\"An error occurred: {e}\")\n"
   ]
  },
  {
   "cell_type": "code",
   "execution_count": 3,
   "metadata": {},
   "outputs": [
    {
     "name": "stdout",
     "output_type": "stream",
     "text": [
      "Odd and even lines have been split into separate files successfully.\n"
     ]
    }
   ],
   "source": [
    "# Function to split odd and even lines into separate files\n",
    "def split_odd_even_lines(input_file, odd_file, even_file):\n",
    "    try:\n",
    "        with open(input_file, 'r') as source_file, open(odd_file, 'w') as odd_output, open(even_file, 'w') as even_output:\n",
    "            lines = source_file.readlines()\n",
    "            for i, line in enumerate(lines):\n",
    "                if i % 2 == 0:\n",
    "                    even_output.write(line)\n",
    "                else:\n",
    "                    odd_output.write(line)\n",
    "        print(\"Odd and even lines have been split into separate files successfully.\")\n",
    "    except FileNotFoundError:\n",
    "        print(\"Input file not found.\")\n",
    "\n",
    "# Define input and output file paths\n",
    "input_file = \"code/jobs/jagannath3.jobs\"\n",
    "odd_lines_file = \"code/jobs/jagannath4_1.jobs\"\n",
    "even_lines_file = \"code/jobs/jagannath4_2.jobs\"\n",
    "\n",
    "# Call the function to split the lines\n",
    "split_odd_even_lines(input_file, odd_lines_file, even_lines_file)\n"
   ]
  },
  {
   "cell_type": "code",
   "execution_count": null,
   "metadata": {},
   "outputs": [],
   "source": []
  }
 ],
 "metadata": {
  "kernelspec": {
   "display_name": "lpgnn",
   "language": "python",
   "name": "python3"
  },
  "language_info": {
   "codemirror_mode": {
    "name": "ipython",
    "version": 3
   },
   "file_extension": ".py",
   "mimetype": "text/x-python",
   "name": "python",
   "nbconvert_exporter": "python",
   "pygments_lexer": "ipython3",
   "version": "3.9.6"
  },
  "orig_nbformat": 4
 },
 "nbformat": 4,
 "nbformat_minor": 2
}
